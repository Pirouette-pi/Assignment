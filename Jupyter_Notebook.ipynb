{
 "cells": [
  {
   "cell_type": "markdown",
   "metadata": {},
   "source": [
    "<center>\n",
    "    <img src=\"https://cf-courses-data.s3.us.cloud-object-storage.appdomain.cloud/IBMDeveloperSkillsNetwork-DS0105EN-SkillsNetwork/labs/Module2/images/SN_web_lightmode.png\" width=\"300\" alt=\"cognitiveclass.ai logo\">\n",
    "</center>\n"
   ]
  },
  {
   "cell_type": "markdown",
   "metadata": {},
   "source": [
    "#### Add your code below following the instructions given in the course\n"
   ]
  },
  {
   "cell_type": "markdown",
   "metadata": {},
   "source": [
    "# The Notebook"
   ]
  },
  {
   "cell_type": "markdown",
   "metadata": {},
   "source": [
    "Hi I'm Ian. Through this notebook, I will write down some of the things I learned."
   ]
  },
  {
   "cell_type": "markdown",
   "metadata": {},
   "source": [
    "* The following is a list of Data Sciences Languages :\n",
    "1. Python. \n",
    "2. R. \n",
    "3. SQL. \n",
    "4. Java. \n",
    "5. Scala. \n",
    "6. C/C++. \n",
    "7. JavaScript. \n",
    "8. Julia. "
   ]
  },
  {
   "cell_type": "markdown",
   "metadata": {},
   "source": [
    "* The following is a list of Data Science Library on Python:\n",
    "1. NumPy (for numerical computation)\n",
    "2. Pandas (for analysis & manipulation)\n",
    "3. Matplotlib & Seaborn (for visualization)\n",
    "4. Scikit-learn & TensorFlow (for machine learning)"
   ]
  },
  {
   "cell_type": "markdown",
   "metadata": {},
   "source": [
    "* The following is a list of Data Science Tools\n",
    "| Languages | Libraries | Visualization | Cloud | Others |\n",
    "| --- | --- | --- | --- | --- |\n",
    "| Python | NumPy | Tableau | Microsoft Azure | Git |\n",
    "| R | Pandas | Power BI | AWS | Jupyter Notebook |\n",
    "| SQL | Matplotlib | Jupyter Notebook | GCP | |"
   ]
  },
  {
   "cell_type": "markdown",
   "metadata": {},
   "source": [
    "Introducing arithmetic expression examples"
   ]
  },
  {
   "cell_type": "code",
   "execution_count": 5,
   "metadata": {
    "tags": []
   },
   "outputs": [
    {
     "data": {
      "text/plain": [
       "256"
      ]
     },
     "execution_count": 5,
     "metadata": {},
     "output_type": "execute_result"
    }
   ],
   "source": [
    "16*16"
   ]
  },
  {
   "cell_type": "code",
   "execution_count": 6,
   "metadata": {
    "tags": []
   },
   "outputs": [
    {
     "data": {
      "text/plain": [
       "14"
      ]
     },
     "execution_count": 6,
     "metadata": {},
     "output_type": "execute_result"
    }
   ],
   "source": [
    "5+9"
   ]
  },
  {
   "cell_type": "code",
   "execution_count": 11,
   "metadata": {
    "tags": []
   },
   "outputs": [
    {
     "name": "stdout",
     "output_type": "stream",
     "text": [
      "90 minutes = 1 hours and 30 minutes.\n"
     ]
    }
   ],
   "source": [
    "minutes = 90\n",
    "hours = minutes // 60\n",
    "remaining_minutes = minutes % 60\n",
    "\n",
    "print(f\"{minutes} minutes = {hours} hours and {remaining_minutes} minutes.\")"
   ]
  },
  {
   "cell_type": "markdown",
   "metadata": {},
   "source": [
    "# Objectives"
   ]
  },
  {
   "cell_type": "markdown",
   "metadata": {},
   "source": [
    "*list of Data Sciences Languages :\n",
  ]
  },
  {
   "cell_type": "markdown",
   "metadata": {},
   "source": [
    "*list of Data Sciences Libraries :\n",
  ]
  },
  {
   "cell_type": "markdown",
   "metadata": {},
   "source": [
    "*list of Data Sciences Tools :\n",
  ]
  },
  {
   "cell_type": "markdown",
   "metadata": {},
   "source": [
    "Febrian Dwi Fazri"
   ]
  },
  {
   "cell_type": "code",
   "execution_count": null,
   "metadata": {},
   "outputs": [],
   "source": []
  }
 ],
 "metadata": {
  "kernelspec": {
   "display_name": "Python",
   "language": "python",
   "name": "conda-env-python-py"
  },
  "language_info": {
   "codemirror_mode": {
    "name": "ipython",
    "version": 3
   },
   "file_extension": ".py",
   "mimetype": "text/x-python",
   "name": "python",
   "nbconvert_exporter": "python",
   "pygments_lexer": "ipython3",
   "version": "3.7.12"
  }
 },
 "nbformat": 4,
 "nbformat_minor": 4
}
